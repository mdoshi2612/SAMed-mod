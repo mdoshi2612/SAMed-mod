{
 "cells": [
  {
   "cell_type": "code",
   "execution_count": 8,
   "id": "7004c0db-42a2-4d9b-a386-d1d839b4fe37",
   "metadata": {},
   "outputs": [],
   "source": [
    "import numpy as np\n",
    "import os\n",
    "\n",
    "def process_text_file(input_file_path, output_file_path):\n",
    "    with open(input_file_path, 'r') as input_file, open(output_file_path, 'w') as output_file:\n",
    "        for line in input_file:\n",
    "            npz_file_path = line.strip()\n",
    "            try:\n",
    "                data = np.load(os.path.join('/home/manav/SAMed-mod/Pleural-Effusion/preprocessed_data/testing_data', f'{npz_file_path}.npz'))\n",
    "                label = data['label']\n",
    "                if np.sum(label) != 0:\n",
    "                    output_file.write(npz_file_path + '\\n')\n",
    "            except (IOError, ValueError) as e:\n",
    "                print(f\"Error processing file {npz_file_path}: {e}\")"
   ]
  },
  {
   "cell_type": "code",
   "execution_count": 9,
   "id": "2b20fd69-c6d4-4b68-937c-eaa963d8eeb4",
   "metadata": {},
   "outputs": [],
   "source": [
    "# Replace 'input.txt' and 'output.txt' with your file paths\n",
    "process_text_file('/home/manav/SAMed-mod/Pleural-Effusion/lists/test_vol.txt', '/home/manav/SAMed-mod/Pleural-Effusion/lists/test_vol_with_area.txt')"
   ]
  },
  {
   "cell_type": "code",
   "execution_count": null,
   "id": "d5021cdb-4e2e-4707-a2b2-45b393af6c33",
   "metadata": {},
   "outputs": [],
   "source": []
  }
 ],
 "metadata": {
  "kernelspec": {
   "display_name": "Python 3 (ipykernel)",
   "language": "python",
   "name": "python3"
  },
  "language_info": {
   "codemirror_mode": {
    "name": "ipython",
    "version": 3
   },
   "file_extension": ".py",
   "mimetype": "text/x-python",
   "name": "python",
   "nbconvert_exporter": "python",
   "pygments_lexer": "ipython3",
   "version": "3.8.10"
  }
 },
 "nbformat": 4,
 "nbformat_minor": 5
}
