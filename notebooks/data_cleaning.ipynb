{
 "cells": [
  {
   "cell_type": "code",
   "execution_count": null,
   "id": "4a83fc1c-8bfc-487c-b1ee-7c937d55ff0d",
   "metadata": {},
   "outputs": [],
   "source": [
    "# Make necessary imports\n",
    "import pydicom as dicom\n",
    "import matplotlib.pylab as plt\n",
    "import cv2\n",
    "import os\n",
    "import math\n",
    "import nibabel as nib\n",
    "import numpy as np\n",
    "import matplotlib.pyplot as plt"
   ]
  },
  {
   "cell_type": "markdown",
   "id": "2a81e652-4aa3-44ea-abbf-9808c4d934b1",
   "metadata": {},
   "source": [
    "## Visualise original CT and Effusion Scans"
   ]
  },
  {
   "cell_type": "code",
   "execution_count": null,
   "id": "a7ae6397-2795-472b-8acd-75bd7871f8dd",
   "metadata": {},
   "outputs": [],
   "source": [
    "# Original Folder\n",
    "ct_folder = '../Pleural-Effusion/raw_data/ct_scans'\n",
    "effusion_folder = '../Pleural-Effusion/raw_data/effusion_masks'\n",
    "\n",
    "# Files\n",
    "file_name = 'LUNG1-001'\n",
    "\n",
    "# Read .nii files\n",
    "ct_scan = nib.load(os.path.join(ct_folder, f'{file_name}.nii'))\n",
    "effusion_mask = nib.load(os.path.join(effusion_folder, f'{file_name}_effusion.nii'))\n",
    "\n",
    "# Get imaging data\n",
    "ct_data = ct_scan.get_fdata()\n",
    "effusion_data = effusion_mask.get_fdata()\n",
    "\n",
    "print(ct_data.shape, effusion_data.shape)"
   ]
  },
  {
   "cell_type": "code",
   "execution_count": null,
   "id": "4bf92610-cc9a-404d-8f06-eb688cf40793",
   "metadata": {},
   "outputs": [],
   "source": [
    "import numpy as np\n",
    "import matplotlib.pyplot as plt\n",
    "\n",
    "def plot_channel_grid(scan_data):\n",
    "    # Get the dimensions of the 3D scan\n",
    "    depth, height, num_channels = scan_data.shape\n",
    "\n",
    "    # Calculate the number of rows and columns in the grid\n",
    "    num_rows = int(np.ceil(np.sqrt(num_channels)))\n",
    "    num_cols = int(np.ceil(num_channels / num_rows))\n",
    "\n",
    "    # Plot the square grid of images\n",
    "    fig, axes = plt.subplots(num_rows, num_cols, figsize=(15, 15))\n",
    "\n",
    "    for i in range(num_rows):\n",
    "        for j in range(num_cols):\n",
    "            channel_idx = i * num_cols + j\n",
    "\n",
    "            if channel_idx < num_channels:\n",
    "                # Plot the channel image\n",
    "                axes[i, j].imshow(scan_data[:, :, channel_idx], cmap='gray', interpolation='nearest')\n",
    "                axes[i, j].axis('off')\n",
    "            else:\n",
    "                # Hide empty subplots\n",
    "                axes[i, j].axis('off')\n",
    "\n",
    "    plt.show()\n",
    "\n",
    "plot_channel_grid(effusion_data)"
   ]
  },
  {
   "cell_type": "markdown",
   "id": "33cd74b7-46ef-41c8-8852-088e29b2725a",
   "metadata": {},
   "source": [
    "## Visualise Preprocessed Data"
   ]
  },
  {
   "cell_type": "code",
   "execution_count": null,
   "id": "50f71b08-c795-4214-9db5-f0a7bb3e48df",
   "metadata": {},
   "outputs": [],
   "source": [
    "# Paths after dividing into traint test split\n",
    "preprocess_train_path = '../Pleural-Effusion/preprocessed_data/training_data'\n",
    "preprocess_test_path = '../Pleural-Effusion/preprocessed_data/testing_data'"
   ]
  },
  {
   "cell_type": "code",
   "execution_count": null,
   "id": "6a66e9e4-e700-42b5-b9a2-dd14c851fe16",
   "metadata": {},
   "outputs": [],
   "source": [
    "# Load data\n",
    "preprocess_data_filename = 'LUNG1-001_slice34.npz'\n",
    "preprocess_data = np.load(os.path.join(preprocess_train_path, preprocess_data_filename))\n",
    "\n",
    "# Create subplot\n",
    "fig, axes = plt.subplots(1, 2, figsize=(15, 15))\n",
    "axes[0].imshow(preprocess_data['image'], cmap = 'gray')\n",
    "axes[1].imshow(preprocess_data['label'], cmap = 'gray')\n",
    "axes[0].axis('off')\n",
    "axes[1].axis('off')\n",
    "\n",
    "plt.show()"
   ]
  },
  {
   "cell_type": "code",
   "execution_count": null,
   "id": "87173189-8d41-4f18-ba8c-c6b31b7016af",
   "metadata": {},
   "outputs": [],
   "source": [
    "# Load images as greyscale but make main RGB so we can annotate in colour\n",
    "seg  = np.ascontiguousarray(preprocess_data['label']*255).astype(np.uint8)\n",
    "main = np.ascontiguousarray(preprocess_data['image']*255).astype(np.uint8)\n",
    "\n",
    "# Create subplot\n",
    "fig, axes = plt.subplots(1, 2, figsize=(15, 15))\n",
    "axes[0].imshow(main, cmap = 'gray')\n",
    "axes[1].imshow(seg, cmap = 'gray')\n",
    "axes[0].axis('off')\n",
    "axes[1].axis('off')\n",
    "\n",
    "plt.show()"
   ]
  },
  {
   "cell_type": "code",
   "execution_count": null,
   "id": "6cac521e-637b-4a1a-a4e2-0f41a5485ee4",
   "metadata": {},
   "outputs": [],
   "source": [
    "# Dictionary giving RGB colour for label (segment label) - label 1 in red, label 2 in yellow\n",
    "RGBforLabel = { 1:(0,0,255), 2:(0,255,255) }\n",
    "\n",
    "# Find external contours\n",
    "contours,_ = cv2.findContours(seg,cv2.RETR_EXTERNAL,cv2.CHAIN_APPROX_NONE)\n",
    "\n",
    "# Iterate over all contours\n",
    "for i,c in enumerate(contours):\n",
    "    # Find mean colour inside this contour by doing a masked mean\n",
    "    mask = np.zeros(seg.shape, np.uint8)\n",
    "    cv2.drawContours(mask,[c],-1,255, -1)\n",
    "    # DEBUG: cv2.imwrite(f\"mask-{i}.png\",mask)\n",
    "    mean,_,_,_ = cv2.mean(seg, mask=mask)\n",
    "    # DEBUG: print(f\"i: {i}, mean: {mean}\")\n",
    "\n",
    "    # Get appropriate colour for this label\n",
    "    label = 2 if mean > 1.0 else 1\n",
    "    colour = RGBforLabel.get(label)\n",
    "    # DEBUG: print(f\"Colour: {colour}\")\n",
    "\n",
    "    # Outline contour in that colour on main image, line thickness=1\n",
    "    cv2.drawContours(main,[c],-1,(255, 0, 0), 0)\n",
    "\n",
    "# Save result\n",
    "plt.imshow(main)"
   ]
  },
  {
   "cell_type": "code",
   "execution_count": null,
   "id": "0f45d743-8b28-464e-bc2e-5104ebcaa217",
   "metadata": {},
   "outputs": [],
   "source": []
  }
 ],
 "metadata": {
  "kernelspec": {
   "display_name": "Python 3 (ipykernel)",
   "language": "python",
   "name": "python3"
  },
  "language_info": {
   "codemirror_mode": {
    "name": "ipython",
    "version": 3
   },
   "file_extension": ".py",
   "mimetype": "text/x-python",
   "name": "python",
   "nbconvert_exporter": "python",
   "pygments_lexer": "ipython3",
   "version": "3.8.10"
  }
 },
 "nbformat": 4,
 "nbformat_minor": 5
}
